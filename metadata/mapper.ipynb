{
 "cells": [
  {
   "cell_type": "code",
   "execution_count": null,
   "id": "95f988aa",
   "metadata": {
    "tags": [
     "parameters"
    ]
   },
   "outputs": [],
   "source": [
    "input_csv_path = \"./preprocessing/agg_outputs\"\n",
    "output_csv_path = \"/agg_party\"\n",
    "party_lookup_path = \"metadata_mapping_16_17_18.csv\""
   ]
  },
  {
   "cell_type": "code",
   "execution_count": null,
   "id": "c02585ca",
   "metadata": {},
   "outputs": [],
   "source": [
    "import pandas as pd\n",
    "import re\n",
    "from rapidfuzz import process, fuzz\n",
    "\n",
    "agg_file = pd.read_csv(input_csv_path)\n",
    "metadata_mapper = pd.read_csv(party_lookup_path)"
   ]
  },
  {
   "cell_type": "code",
   "execution_count": null,
   "id": "e6fc574e",
   "metadata": {},
   "outputs": [],
   "source": [
    "%pip install rapidfuzz\n"
   ]
  },
  {
   "cell_type": "code",
   "execution_count": null,
   "id": "370c7f1b",
   "metadata": {},
   "outputs": [
    {
     "name": "stdout",
     "output_type": "stream",
     "text": [
      "Unmatched speakers:\n",
      "['CHAIRPERSON' 'SPEAKER']\n"
     ]
    }
   ],
   "source": [
    "import unicodedata\n",
    "\n",
    "# Clean name function with Unicode normalization\n",
    "def clean_name(name):\n",
    "    name = str(name).split('|')[0]\n",
    "    name = unicodedata.normalize('NFKD', name)\n",
    "    name = ''.join(c for c in name if not unicodedata.combining(c))  # Remove diacritics\n",
    "    name = name.upper()\n",
    "    name = re.sub(r'[^A-Z ]', '', name)\n",
    "    name = re.sub(r'\\s+', ' ', name).strip()\n",
    "    return name\n",
    "\n",
    "# Raw manual map\n",
    "raw_manual_party_map = {\n",
    "    \"M VENKAIAH NAIDU\": \"Bharatiya Janata Party\",\n",
    "    \"BHARTRUHARI MAHTAB\": \"Biju Janata Dal\",\n",
    "    \"DEPUTY SPEAKER\": \"None\",\n",
    "    \"ĒMA VAIṀKAIYYĀ NĀYAḌŪ | ĒMAVAIṀKAIYYĀ NĀYAḌŪ\": \"BJP\",\n",
    "    \"NEIPHIU RIO\": \"NDPP\",\n",
    "    \"RĀJĪVA PRATĀPA RŪḌĪ\": \"BJP\",\n",
    "    \"NAVANĪTA RAVI RĀṆĀ\": \"BJP\",\n",
    "    \"MĪNĀKṢĪ LĒKHĪ\": \"BJP\"\n",
    "}\n",
    "\n",
    "manual_party_map = {\n",
    "    clean_name(k): v for k, v in raw_manual_party_map.items()\n",
    "}\n",
    "\n",
    "# clean names in both datasetsss\n",
    "agg_file['Cleaned_Speaker'] = agg_file['Speaker'].apply(clean_name)\n",
    "metadata_mapper['Cleaned_Name'] = metadata_mapper['Name'].apply(clean_name)\n",
    "\n",
    "# fuzzy match function with manual override\n",
    "def get_party(speaker_name):\n",
    "    if speaker_name in manual_party_map:\n",
    "        return manual_party_map[speaker_name]\n",
    "    \n",
    "    match, score, _ = process.extractOne(\n",
    "        speaker_name,\n",
    "        metadata_mapper['Cleaned_Name'],\n",
    "        scorer=fuzz.token_sort_ratio\n",
    "    )\n",
    "    if score > 65:\n",
    "        return metadata_mapper.loc[\n",
    "            metadata_mapper['Cleaned_Name'] == match, 'Party Name'\n",
    "        ].values[0]\n",
    "    else:\n",
    "        return None\n",
    "\n",
    "#  party mapping\n",
    "agg_file['Party Name'] = agg_file['Cleaned_Speaker'].apply(get_party)\n",
    "\n",
    "# logs\n",
    "unmatched = agg_file[agg_file['Party Name'].isnull()]\n",
    "if not unmatched.empty:\n",
    "    print(\"Unmatched speakers:\")\n",
    "    print(unmatched['Speaker'].unique())\n",
    "\n",
    "agg_file.drop(columns=['Cleaned_Speaker'], inplace=True)\n",
    "agg_file.to_csv(output_csv_path, index=False)\n"
   ]
  }
 ],
 "metadata": {
  "kernelspec": {
   "display_name": "venv",
   "language": "python",
   "name": "python3"
  },
  "language_info": {
   "codemirror_mode": {
    "name": "ipython",
    "version": 3
   },
   "file_extension": ".py",
   "mimetype": "text/x-python",
   "name": "python",
   "nbconvert_exporter": "python",
   "pygments_lexer": "ipython3",
   "version": "3.11.3"
  }
 },
 "nbformat": 4,
 "nbformat_minor": 5
}
